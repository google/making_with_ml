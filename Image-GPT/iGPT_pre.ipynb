{
 "cells": [
  {
   "cell_type": "code",
   "execution_count": 2,
   "id": "1e608368",
   "metadata": {},
   "outputs": [
    {
     "name": "stdout",
     "output_type": "stream",
     "text": [
      "Cloning into 'GPT'...\n",
      "remote: Enumerating objects: 912, done.\u001b[K\n",
      "remote: Counting objects: 100% (311/311), done.\u001b[K\n",
      "remote: Compressing objects: 100% (304/304), done.\u001b[K\n",
      "remote: Total 912 (delta 181), reused 0 (delta 0), pack-reused 601\u001b[K\n",
      "Receiving objects: 100% (912/912), 1.64 MiB | 18.88 MiB/s, done.\n",
      "Resolving deltas: 100% (211/211), done.\n"
     ]
    }
   ],
   "source": [
    "!git clone https://github.com/StarxSky/GPT"
   ]
  },
  {
   "cell_type": "markdown",
   "id": "33b202b4",
   "metadata": {},
   "source": [
    "# 此笔记本必须放到与Core同目录下"
   ]
  },
  {
   "cell_type": "code",
   "execution_count": 1,
   "id": "853755ad",
   "metadata": {},
   "outputs": [],
   "source": [
    "import os\n",
    "import torch\n",
    "import torchvision\n",
    "import numpy as np\n",
    "import matplotlib.pyplot as plt\n",
    "\n",
    "from Core.Function import sample\n",
    "from Core.Function import set_seed\n",
    "from Core.CONFIG import Trainer\n",
    "from Core.Model import GPT_Model\n",
    "from Core.Function import kmeans\n",
    "from Core.Datasets import ImageDataset\n",
    "from Core.CONFIG import GPTConfig\n",
    "from Core.CONFIG import TrainerConfig"
   ]
  },
  {
   "cell_type": "markdown",
   "id": "0178be56",
   "metadata": {},
   "source": [
    "# 下载数据"
   ]
  },
  {
   "cell_type": "code",
   "execution_count": 2,
   "id": "0d299fae",
   "metadata": {},
   "outputs": [
    {
     "name": "stdout",
     "output_type": "stream",
     "text": [
      "Files already downloaded and verified\n",
      "Files already downloaded and verified\n",
      "50000 10000\n"
     ]
    }
   ],
   "source": [
    "# ===========================下载数据====================================\n",
    "# 加载数据\n",
    "root = './'\n",
    "train_data = torchvision.datasets.CIFAR10(root, train=True, transform=None, target_transform=None, download=True)\n",
    "test_data  = torchvision.datasets.CIFAR10(root, train=False, transform=None, target_transform=None, download=True)\n",
    "print(len(train_data), len(test_data))"
   ]
  },
  {
   "cell_type": "markdown",
   "id": "2082a3d6",
   "metadata": {},
   "source": [
    "# 处理数据"
   ]
  },
  {
   "cell_type": "code",
   "execution_count": 3,
   "id": "57aa7a65",
   "metadata": {},
   "outputs": [
    {
     "name": "stdout",
     "output_type": "stream",
     "text": [
      "torch.Size([250000, 3])\n",
      "done step 1/8, re-initialized 2 dead clusters\n",
      "done step 2/8, re-initialized 0 dead clusters\n",
      "done step 3/8, re-initialized 0 dead clusters\n",
      "done step 4/8, re-initialized 0 dead clusters\n",
      "done step 5/8, re-initialized 0 dead clusters\n",
      "done step 6/8, re-initialized 0 dead clusters\n",
      "done step 7/8, re-initialized 0 dead clusters\n",
      "done step 8/8, re-initialized 0 dead clusters\n",
      "torch.Size([512, 3])\n"
     ]
    }
   ],
   "source": [
    "\n",
    "\n",
    "# ================================================================\n",
    "# 每张图像随机获取 5 个像素并将它们全部堆叠为 rgb 值以获得半百万个随机像素\n",
    "pluck_rgb = lambda x: torch.from_numpy(np.array(x)).view(32*32, 3)[torch.randperm(32*32)[:5], :]\n",
    "px = torch.cat([pluck_rgb(x) for x, y in train_data], dim=0).float()\n",
    "print(px.size())\n",
    "\n",
    "# ===========================应用K-means进行获取数据离散值=====================================\n",
    "ncluster = 512\n",
    "with torch.no_grad():\n",
    "    C = kmeans(px, ncluster, niter=8)\n",
    "\n",
    "print(C.size()) # 输出结果"
   ]
  },
  {
   "cell_type": "code",
   "execution_count": 4,
   "id": "2d4b652e",
   "metadata": {},
   "outputs": [
    {
     "name": "stdout",
     "output_type": "stream",
     "text": [
      "tensor([239, 312, 310,  ..., 201, 231, 376])\n"
     ]
    }
   ],
   "source": [
    "# =============================制作数据集==============================\n",
    "train_dataset = ImageDataset(train_data, C)                     \n",
    "#test_dataset = ImageDataset(test_data, C)                        \n",
    "print(train_dataset[0][0])  # 一个示例图像被展平为整数                                                             "
   ]
  },
  {
   "cell_type": "markdown",
   "id": "069d2ee4",
   "metadata": {},
   "source": [
    "## 将预训练的模型加载进去（注意模型必须放到```Pre_models```目录之中）"
   ]
  },
  {
   "cell_type": "code",
   "execution_count": 5,
   "id": "1ffcdf75",
   "metadata": {},
   "outputs": [
    {
     "data": {
      "text/plain": [
       "<All keys matched successfully>"
      ]
     },
     "execution_count": 5,
     "metadata": {},
     "output_type": "execute_result"
    }
   ],
   "source": [
    "# 设置确定性\n",
    "set_seed(42)\n",
    "# ===================================================================\n",
    "# 训练前的一些GPT模型的配置\n",
    "# 根据官方的模型，参数为batch_size = 128,Adam lr 0.003，beta = (0.9, 0.95)\n",
    "# 学习率预热一个 epoch，然后衰减到 0\n",
    "# 没有使用权重衰减或Droput\n",
    "# n_layer=24, n_head=8, n_embd=512\n",
    "# 另外您可以根据自己的设备进行自己配置\n",
    "mconf = GPTConfig(train_dataset.vocab_size, train_dataset.block_size,\n",
    "                  embd_pdrop=0.0, resid_pdrop=0.0, attn_pdrop=0.0,\n",
    "                  n_layer=10, n_head=4, n_embd=84)\n",
    "\n",
    "model = GPT_Model(mconf)\n",
    "#print(model)\n",
    "# =============================Load Model=====================================\n",
    "checkpoint = torch.load('model.bin')\n",
    "model.load_state_dict(checkpoint)"
   ]
  },
  {
   "cell_type": "markdown",
   "id": "64c1e68e",
   "metadata": {},
   "source": [
    "# 转换为ONNX模型"
   ]
  },
  {
   "cell_type": "code",
   "execution_count": 10,
   "id": "00ec6778",
   "metadata": {},
   "outputs": [],
   "source": [
    "# =============================CONFIG =======================================\n",
    "tokens_per_epoch = len(train_data) * train_dataset.block_size\n",
    "train_epochs = 1 # todo run a bigger model and longer, this is tiny\n",
    "# 初始化训练器进行训练\n",
    "tconf = TrainerConfig(max_epochs=train_epochs, batch_size=3*8, learning_rate=3e-3,\n",
    "                      betas = (0.9, 0.95), weight_decay=0,\n",
    "                      lr_decay=True, warmup_tokens=tokens_per_epoch, final_tokens=train_epochs*tokens_per_epoch,\n",
    "                      num_workers=8)\n",
    "\n",
    "trainer = Trainer(model = model, train_dataset = train_dataset, test_dataset = None, config = tconf,Save_Model_path='./pa')"
   ]
  },
  {
   "cell_type": "code",
   "execution_count": 11,
   "id": "89833d9d",
   "metadata": {},
   "outputs": [],
   "source": [
    "# =============================================================================\n",
    "counts = torch.ones(ncluster) # start counts as 1 not zero, this is called \"smoothing\"\n",
    "rp = torch.randperm(len(train_dataset))\n",
    "nest = 5000 # how many images to use for the estimation\n",
    "for i in range(nest):\n",
    "    a, _ = train_dataset[int(rp[i])]\n",
    "    t = a[0].item() # index of first token in the sequence\n",
    "    counts[t] += 1\n",
    "    \n",
    "prob = counts/counts.sum()"
   ]
  },
  {
   "cell_type": "code",
   "execution_count": 13,
   "id": "b13533bf",
   "metadata": {},
   "outputs": [],
   "source": [
    "n_samples = 32\n",
    "start_pixel = np.random.choice(np.arange(C.size(0)), size=(n_samples, 1), replace=True, p=prob)\n",
    "start_pixel = torch.from_numpy(start_pixel).to(trainer.device)"
   ]
  },
  {
   "cell_type": "code",
   "execution_count": 17,
   "id": "a472997f",
   "metadata": {},
   "outputs": [
    {
     "name": "stdout",
     "output_type": "stream",
     "text": [
      " \n",
      "Model has been converted to ONNX\n"
     ]
    }
   ],
   "source": [
    "import torch.onnx \n",
    "\n",
    "\n",
    "\n",
    "\n",
    "    # set the model to inference mode \n",
    "model.eval() \n",
    "\n",
    "    # Let's create a dummy input tensor  \n",
    "dummy_input = start_pixel#torch.randn(1, input_size, requires_grad=True)  \n",
    "\n",
    "    # Export the model   \n",
    "torch.onnx.export(model,\n",
    "                  # model being run \n",
    "                 dummy_input,       # model input (or a tuple for multiple inputs) \n",
    "                 \"iGPT.onnx\",       # where to save the model  \n",
    "                 export_params=True,  # store the trained parameter weights inside the model file \n",
    "                 opset_version=10,    # the ONNX version to export the model to \n",
    "                 do_constant_folding=True,  # whether to execute constant folding for optimization \n",
    "                 input_names = ['modelInput'],   # the model's input names \n",
    "                 output_names = ['modelOutput'], # the model's output names \n",
    "                 dynamic_axes={'modelInput' : {0 : 'batch_size'},    # variable length axes \n",
    "                                'modelOutput' : {0 : 'batch_size'}})\n",
    "\n",
    "print(\" \") \n",
    "print('Model has been converted to ONNX')"
   ]
  },
  {
   "cell_type": "markdown",
   "id": "35a56790",
   "metadata": {},
   "source": [
    "# 展示您的模型生成的结果"
   ]
  },
  {
   "cell_type": "code",
   "execution_count": 15,
   "id": "d761ba9a",
   "metadata": {},
   "outputs": [],
   "source": [
    "n_samples = 32\n",
    "start_pixel = np.random.choice(np.arange(C.size(0)), size=(n_samples, 1), replace=True, p=prob)\n",
    "start_pixel = torch.from_numpy(start_pixel).to(trainer.device)"
   ]
  },
  {
   "cell_type": "code",
   "execution_count": null,
   "id": "0b3a8de0",
   "metadata": {},
   "outputs": [],
   "source": [
    "\n",
    "pixels = sample(model, start_pixel, 32*32-1, temperature=1.0, sample=True, top_k=100)\n",
    "# =========================Show the Images===============================\n",
    "# for visualization we have to invert the permutation used to produce the pixels\n",
    "iperm = torch.argsort(train_dataset.perm)\n",
    "ncol = 8\n",
    "nrow = n_samples // ncol\n",
    "\n",
    "plt.figure(figsize=(16, 8))\n",
    "for i in range(n_samples):\n",
    "    pxi = pixels[i][iperm] # note: undo the encoding permutation\n",
    "    \n",
    "    plt.subplot(nrow, ncol, i+1)\n",
    "    plt.imshow(C[pxi].view(32, 32, 3).numpy().astype(np.uint8))\n",
    "    plt.axis('off')"
   ]
  },
  {
   "cell_type": "code",
   "execution_count": null,
   "id": "599dc074",
   "metadata": {},
   "outputs": [],
   "source": []
  }
 ],
 "metadata": {
  "kernelspec": {
   "display_name": "Python 3 (ipykernel)",
   "language": "python",
   "name": "python3"
  },
  "language_info": {
   "codemirror_mode": {
    "name": "ipython",
    "version": 3
   },
   "file_extension": ".py",
   "mimetype": "text/x-python",
   "name": "python",
   "nbconvert_exporter": "python",
   "pygments_lexer": "ipython3",
   "version": "3.8.0"
  }
 },
 "nbformat": 4,
 "nbformat_minor": 5
}
